{
 "cells": [
  {
   "cell_type": "code",
   "execution_count": 156,
   "metadata": {},
   "outputs": [],
   "source": [
    "import pandas as pd\n",
    "import numpy as np\n",
    "import functools, collections\n",
    "from tqdm.notebook import tqdm\n",
    "tqdm.pandas()\n",
    "import warnings\n",
    "warnings.filterwarnings(\"ignore\")"
   ]
  },
  {
   "cell_type": "code",
   "execution_count": 40,
   "metadata": {},
   "outputs": [],
   "source": [
    "d = {'metro manila': [3,5,7,7],\n",
    "                   'luzon': [5,5,7,7],\n",
    "                   'visayas': [7,7,7,7],\n",
    "                   'mindanao': [7,7,7,7]}\n",
    "index_row = ['metro manila', 'luzon', 'visayas', 'mindanao']"
   ]
  },
  {
   "cell_type": "code",
   "execution_count": 41,
   "metadata": {},
   "outputs": [],
   "source": [
    "SLA_matrix = pd.DataFrame(data=d, index=index_row)"
   ]
  },
  {
   "cell_type": "code",
   "execution_count": 69,
   "metadata": {},
   "outputs": [],
   "source": [
    "df = pd.read_csv('delivery_orders_march.csv')"
   ]
  },
  {
   "cell_type": "code",
   "execution_count": 72,
   "metadata": {},
   "outputs": [],
   "source": [
    "# Transform buyer and seller address to simplified area\n",
    "def simplify_add(list_of_add):\n",
    "    for word in index_row:\n",
    "        if word in list_of_add.lower():\n",
    "            return(word)\n",
    "        \n",
    "df['buy_add'] = df['buyeraddress'].apply(simplify_add)\n",
    "df['sell_add'] = df['selleraddress'].apply(simplify_add)"
   ]
  },
  {
   "cell_type": "code",
   "execution_count": 152,
   "metadata": {},
   "outputs": [],
   "source": [
    "def get_SLA(buy_add, sell_add):\n",
    "    SLA = SLA_matrix.loc[buy_add][sell_add]\n",
    "    return SLA"
   ]
  },
  {
   "cell_type": "code",
   "execution_count": 153,
   "metadata": {},
   "outputs": [
    {
     "data": {
      "application/vnd.jupyter.widget-view+json": {
       "model_id": "b87aec11f4534bfd9fffdd02b87758db",
       "version_major": 2,
       "version_minor": 0
      },
      "text/plain": [
       "HBox(children=(FloatProgress(value=0.0, max=3176313.0), HTML(value='')))"
      ]
     },
     "metadata": {},
     "output_type": "display_data"
    },
    {
     "name": "stdout",
     "output_type": "stream",
     "text": [
      "\n"
     ]
    }
   ],
   "source": [
    "# Get corresponding SLA for each row\n",
    "df['first_attempt'] = df[['buy_add','sell_add']].progress_apply(lambda x: get_SLA(*x), axis=1)"
   ]
  },
  {
   "cell_type": "code",
   "execution_count": 154,
   "metadata": {},
   "outputs": [],
   "source": [
    "import time\n",
    "def change_time(time_list):\n",
    "    new_time = time.strftime('%Y-%m-%d %H:%M:%S', time.localtime(time_list))\n",
    "    return new_time"
   ]
  },
  {
   "cell_type": "code",
   "execution_count": 157,
   "metadata": {},
   "outputs": [],
   "source": [
    "df['pick'] = df['pick'].apply(change_time)\n",
    "df['1st_deliver_attempt'] = df['1st_deliver_attempt'].apply(change_time)\n",
    "df['2nd_deliver_attempt'] = df['2nd_deliver_attempt'].fillna(0)\n",
    "df['2nd_deliver_attempt'] = df['2nd_deliver_attempt'].apply(change_time)"
   ]
  },
  {
   "cell_type": "code",
   "execution_count": 158,
   "metadata": {},
   "outputs": [],
   "source": [
    "df['pick'] = pd.to_datetime(df['pick'])\n",
    "df['1st_deliver_attempt'] = pd.to_datetime(df['1st_deliver_attempt'])\n",
    "df['2nd_deliver_attempt'] = pd.to_datetime(df['2nd_deliver_attempt'])"
   ]
  },
  {
   "cell_type": "code",
   "execution_count": 159,
   "metadata": {},
   "outputs": [],
   "source": [
    "df['pick_date_only'] = df['pick'].dt.date\n",
    "df['1st_deliver_attempt_date'] = df['1st_deliver_attempt'].dt.date\n",
    "df['2nd_deliver_attempt_date'] = df['2nd_deliver_attempt'].dt.date"
   ]
  },
  {
   "cell_type": "code",
   "execution_count": 160,
   "metadata": {},
   "outputs": [],
   "source": [
    "df['1st_diff'] = df['1st_deliver_attempt_date'] - df['pick_date_only']\n",
    "df['1st_diff'] = df['1st_diff'].dt.days"
   ]
  },
  {
   "cell_type": "code",
   "execution_count": 161,
   "metadata": {},
   "outputs": [],
   "source": [
    "def num_working_days(start,end):\n",
    "    valid_calendar = np.busdaycalendar(weekmask='1111110', holidays=['2020-03-08','2020-03-25','2020-03-30','2020-03-31'])\n",
    "    valid_daycount = np.busday_count(start, end, busdaycal=valid_calendar)\n",
    "    return valid_daycount"
   ]
  },
  {
   "cell_type": "code",
   "execution_count": 162,
   "metadata": {},
   "outputs": [],
   "source": [
    "df.rename(columns={'1st_deliver_attempt_date': 'first_attempt_date',\n",
    "                  '2nd_deliver_attempt_date': 'second_attempt_date'}, inplace=True)"
   ]
  },
  {
   "cell_type": "code",
   "execution_count": 163,
   "metadata": {},
   "outputs": [],
   "source": [
    "# new_sample['actual_day_used'] = new_sample.apply(lambda x: num_working_days(x.pick_date_only, x.first_attempt_date, axis=1))\n",
    "df['actual_day_used'] = num_working_days(df['pick_date_only'], df['first_attempt_date'])\n",
    "df['second_actual_day_used'] = num_working_days(df['first_attempt_date'], df['second_attempt_date'])"
   ]
  },
  {
   "cell_type": "code",
   "execution_count": 164,
   "metadata": {},
   "outputs": [],
   "source": [
    "df['first_is_late'] = df['actual_day_used'] > df['first_attempt']\n",
    "df['second_is_late'] = df['second_actual_day_used'] > 3\n",
    "df['is_late'] = (df['second_is_late']) | (df['first_is_late'])"
   ]
  },
  {
   "cell_type": "code",
   "execution_count": 165,
   "metadata": {},
   "outputs": [
    {
     "data": {
      "text/html": [
       "<div>\n",
       "<style scoped>\n",
       "    .dataframe tbody tr th:only-of-type {\n",
       "        vertical-align: middle;\n",
       "    }\n",
       "\n",
       "    .dataframe tbody tr th {\n",
       "        vertical-align: top;\n",
       "    }\n",
       "\n",
       "    .dataframe thead th {\n",
       "        text-align: right;\n",
       "    }\n",
       "</style>\n",
       "<table border=\"1\" class=\"dataframe\">\n",
       "  <thead>\n",
       "    <tr style=\"text-align: right;\">\n",
       "      <th></th>\n",
       "      <th>orderid</th>\n",
       "      <th>is_late</th>\n",
       "    </tr>\n",
       "  </thead>\n",
       "  <tbody>\n",
       "    <tr>\n",
       "      <th>0</th>\n",
       "      <td>2215676524</td>\n",
       "      <td>False</td>\n",
       "    </tr>\n",
       "    <tr>\n",
       "      <th>1</th>\n",
       "      <td>2219624609</td>\n",
       "      <td>False</td>\n",
       "    </tr>\n",
       "    <tr>\n",
       "      <th>2</th>\n",
       "      <td>2220979489</td>\n",
       "      <td>False</td>\n",
       "    </tr>\n",
       "    <tr>\n",
       "      <th>3</th>\n",
       "      <td>2221066352</td>\n",
       "      <td>False</td>\n",
       "    </tr>\n",
       "    <tr>\n",
       "      <th>4</th>\n",
       "      <td>2222478803</td>\n",
       "      <td>False</td>\n",
       "    </tr>\n",
       "    <tr>\n",
       "      <th>...</th>\n",
       "      <td>...</td>\n",
       "      <td>...</td>\n",
       "    </tr>\n",
       "    <tr>\n",
       "      <th>3176308</th>\n",
       "      <td>31504087640510</td>\n",
       "      <td>False</td>\n",
       "    </tr>\n",
       "    <tr>\n",
       "      <th>3176309</th>\n",
       "      <td>31504147352227</td>\n",
       "      <td>False</td>\n",
       "    </tr>\n",
       "    <tr>\n",
       "      <th>3176310</th>\n",
       "      <td>31504462290482</td>\n",
       "      <td>False</td>\n",
       "    </tr>\n",
       "    <tr>\n",
       "      <th>3176311</th>\n",
       "      <td>31504851495943</td>\n",
       "      <td>False</td>\n",
       "    </tr>\n",
       "    <tr>\n",
       "      <th>3176312</th>\n",
       "      <td>31505199116340</td>\n",
       "      <td>False</td>\n",
       "    </tr>\n",
       "  </tbody>\n",
       "</table>\n",
       "<p>3176313 rows × 2 columns</p>\n",
       "</div>"
      ],
      "text/plain": [
       "                orderid  is_late\n",
       "0            2215676524    False\n",
       "1            2219624609    False\n",
       "2            2220979489    False\n",
       "3            2221066352    False\n",
       "4            2222478803    False\n",
       "...                 ...      ...\n",
       "3176308  31504087640510    False\n",
       "3176309  31504147352227    False\n",
       "3176310  31504462290482    False\n",
       "3176311  31504851495943    False\n",
       "3176312  31505199116340    False\n",
       "\n",
       "[3176313 rows x 2 columns]"
      ]
     },
     "execution_count": 165,
     "metadata": {},
     "output_type": "execute_result"
    }
   ],
   "source": [
    "df_output = df[['orderid','is_late']]\n",
    "df_output"
   ]
  },
  {
   "cell_type": "code",
   "execution_count": 166,
   "metadata": {},
   "outputs": [],
   "source": [
    "df_output['is_late'] = df_output['is_late'].astype(int)"
   ]
  },
  {
   "cell_type": "code",
   "execution_count": 167,
   "metadata": {},
   "outputs": [
    {
     "data": {
      "text/plain": [
       "0    2935865\n",
       "1     240448\n",
       "Name: is_late, dtype: int64"
      ]
     },
     "execution_count": 167,
     "metadata": {},
     "output_type": "execute_result"
    }
   ],
   "source": [
    "df_output['is_late'].value_counts()"
   ]
  },
  {
   "cell_type": "code",
   "execution_count": 104,
   "metadata": {},
   "outputs": [],
   "source": [
    "df_output.to_csv('submission.csv', index=False, header=True)"
   ]
  }
 ],
 "metadata": {
  "kernelspec": {
   "display_name": "Python 3",
   "language": "python",
   "name": "python3"
  },
  "language_info": {
   "codemirror_mode": {
    "name": "ipython",
    "version": 3
   },
   "file_extension": ".py",
   "mimetype": "text/x-python",
   "name": "python",
   "nbconvert_exporter": "python",
   "pygments_lexer": "ipython3",
   "version": "3.7.6"
  }
 },
 "nbformat": 4,
 "nbformat_minor": 4
}
