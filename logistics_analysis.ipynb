{
 "cells": [
  {
   "cell_type": "code",
   "execution_count": 7,
   "metadata": {},
   "outputs": [],
   "source": [
    "# Import all relevant libraries\n",
    "import pandas as pd\n",
    "import numpy as np\n",
    "import functools, collections\n",
    "from tqdm.notebook import tqdm\n",
    "tqdm.pandas()\n",
    "import time\n",
    "import warnings\n",
    "warnings.filterwarnings(\"ignore\")"
   ]
  },
  {
   "cell_type": "code",
   "execution_count": 2,
   "metadata": {},
   "outputs": [],
   "source": [
    "# Create the SLA matrix based on SLA Matrix.xlsx\n",
    "d = {'metro manila': [3,5,7,7],\n",
    "     'luzon':        [5,5,7,7],\n",
    "     'visayas':      [7,7,7,7],\n",
    "     'mindanao':     [7,7,7,7]}\n",
    "index_row = ['metro manila', 'luzon', 'visayas', 'mindanao']\n",
    "SLA_matrix = pd.DataFrame(data=d, index=index_row)"
   ]
  },
  {
   "cell_type": "code",
   "execution_count": 3,
   "metadata": {},
   "outputs": [],
   "source": [
    "# Read in the delivery orders data and put it into a dataframe\n",
    "df = pd.read_csv('delivery_orders_march.csv')"
   ]
  },
  {
   "cell_type": "code",
   "execution_count": 4,
   "metadata": {},
   "outputs": [],
   "source": [
    "# Transform buyer and seller address to simplified area\n",
    "def simplify_add(list_of_add):\n",
    "    for word in index_row:\n",
    "        if word in list_of_add.lower():\n",
    "            return(word)\n",
    "        \n",
    "df['buy_add'] = df['buyeraddress'].apply(simplify_add)\n",
    "df['sell_add'] = df['selleraddress'].apply(simplify_add)"
   ]
  },
  {
   "cell_type": "code",
   "execution_count": 5,
   "metadata": {},
   "outputs": [
    {
     "data": {
      "application/vnd.jupyter.widget-view+json": {
       "model_id": "819e432f4b1543c19d0ae3cf6c09143f",
       "version_major": 2,
       "version_minor": 0
      },
      "text/plain": [
       "HBox(children=(FloatProgress(value=0.0, max=3176313.0), HTML(value='')))"
      ]
     },
     "metadata": {},
     "output_type": "display_data"
    },
    {
     "name": "stdout",
     "output_type": "stream",
     "text": [
      "\n"
     ]
    }
   ],
   "source": [
    "def get_SLA(buy_add, sell_add):\n",
    "    SLA = SLA_matrix.loc[buy_add][sell_add]\n",
    "    return SLA\n",
    "\n",
    "# Get corresponding SLA for each row\n",
    "df['first_attempt'] = df[['buy_add','sell_add']].progress_apply(lambda x: get_SLA(*x), axis=1)"
   ]
  },
  {
   "cell_type": "code",
   "execution_count": 8,
   "metadata": {},
   "outputs": [],
   "source": [
    "def change_time(time_list):\n",
    "    new_time = time.strftime('%Y-%m-%d %H:%M:%S', time.localtime(time_list))\n",
    "    return new_time\n",
    "\n",
    "# Change the time format\n",
    "df['pick'] = df['pick'].apply(change_time)\n",
    "df['1st_deliver_attempt'] = df['1st_deliver_attempt'].apply(change_time)\n",
    "df['2nd_deliver_attempt'] = df['2nd_deliver_attempt'].fillna(0)\n",
    "df['2nd_deliver_attempt'] = df['2nd_deliver_attempt'].apply(change_time)"
   ]
  },
  {
   "cell_type": "code",
   "execution_count": 9,
   "metadata": {},
   "outputs": [],
   "source": [
    "# Change fields into datatime format\n",
    "df['pick'] = pd.to_datetime(df['pick'])\n",
    "df['1st_deliver_attempt'] = pd.to_datetime(df['1st_deliver_attempt'])\n",
    "df['2nd_deliver_attempt'] = pd.to_datetime(df['2nd_deliver_attempt'])"
   ]
  },
  {
   "cell_type": "code",
   "execution_count": 10,
   "metadata": {},
   "outputs": [],
   "source": [
    "# Get the date of the fields only\n",
    "df['pick_date_only'] = df['pick'].dt.date\n",
    "df['1st_deliver_attempt_date'] = df['1st_deliver_attempt'].dt.date\n",
    "df['2nd_deliver_attempt_date'] = df['2nd_deliver_attempt'].dt.date"
   ]
  },
  {
   "cell_type": "code",
   "execution_count": 11,
   "metadata": {},
   "outputs": [],
   "source": [
    "# Get the number of days between pickup and 1st delivery attempt\n",
    "df['1st_diff'] = df['1st_deliver_attempt_date'] - df['pick_date_only']\n",
    "df['1st_diff'] = df['1st_diff'].dt.days"
   ]
  },
  {
   "cell_type": "code",
   "execution_count": 12,
   "metadata": {},
   "outputs": [],
   "source": [
    "# This function returns the number of working days between two dates\n",
    "def num_working_days(start,end):\n",
    "    valid_calendar = np.busdaycalendar(weekmask='1111110', holidays=['2020-03-08','2020-03-25','2020-03-30','2020-03-31'])\n",
    "    valid_daycount = np.busday_count(start, end, busdaycal=valid_calendar)\n",
    "    return valid_daycount"
   ]
  },
  {
   "cell_type": "code",
   "execution_count": 13,
   "metadata": {},
   "outputs": [],
   "source": [
    "# Rename the columns for better clarity\n",
    "df.rename(columns={'1st_deliver_attempt_date': 'first_attempt_date',\n",
    "                  '2nd_deliver_attempt_date': 'second_attempt_date'}, inplace=True)"
   ]
  },
  {
   "cell_type": "code",
   "execution_count": 15,
   "metadata": {},
   "outputs": [],
   "source": [
    "# Get the number of working days between pickup and first attempt + first attempt and second attempt\n",
    "df['actual_day_used'] = num_working_days(df['pick_date_only'], df['first_attempt_date'])\n",
    "df['second_actual_day_used'] = num_working_days(df['first_attempt_date'], df['second_attempt_date'])"
   ]
  },
  {
   "cell_type": "code",
   "execution_count": 16,
   "metadata": {},
   "outputs": [],
   "source": [
    "# Check if actual days taken exceeds the allowed number of days\n",
    "df['first_is_late'] = df['actual_day_used'] > df['first_attempt']\n",
    "df['second_is_late'] = df['second_actual_day_used'] > 3\n",
    "df['is_late'] = (df['second_is_late']) | (df['first_is_late'])"
   ]
  },
  {
   "cell_type": "code",
   "execution_count": 17,
   "metadata": {},
   "outputs": [],
   "source": [
    "# Select the columns 'orderid' and 'is_late' for submission\n",
    "df_output = df[['orderid','is_late']]\n",
    "df_output['is_late'] = df_output['is_late'].astype(int)"
   ]
  },
  {
   "cell_type": "code",
   "execution_count": 18,
   "metadata": {},
   "outputs": [],
   "source": [
    "# Save the results as a csv file\n",
    "df_output.to_csv('submission.csv', index=False, header=True)"
   ]
  }
 ],
 "metadata": {
  "kernelspec": {
   "display_name": "Python 3",
   "language": "python",
   "name": "python3"
  },
  "language_info": {
   "codemirror_mode": {
    "name": "ipython",
    "version": 3
   },
   "file_extension": ".py",
   "mimetype": "text/x-python",
   "name": "python",
   "nbconvert_exporter": "python",
   "pygments_lexer": "ipython3",
   "version": "3.8.3"
  }
 },
 "nbformat": 4,
 "nbformat_minor": 4
}
